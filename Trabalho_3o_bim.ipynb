{
  "nbformat": 4,
  "nbformat_minor": 0,
  "metadata": {
    "colab": {
      "provenance": [],
      "authorship_tag": "ABX9TyOwygLfVCIo9YiRgyCOJM8E",
      "include_colab_link": true
    },
    "kernelspec": {
      "name": "python3",
      "display_name": "Python 3"
    },
    "language_info": {
      "name": "python"
    }
  },
  "cells": [
    {
      "cell_type": "markdown",
      "metadata": {
        "id": "view-in-github",
        "colab_type": "text"
      },
      "source": [
        "<a href=\"https://colab.research.google.com/github/AnaluSnt/Programa-o-Avan-ada-/blob/main/Trabalho_3o_bim.ipynb\" target=\"_parent\"><img src=\"https://colab.research.google.com/assets/colab-badge.svg\" alt=\"Open In Colab\"/></a>"
      ]
    },
    {
      "cell_type": "markdown",
      "source": [
        "Questao 1"
      ],
      "metadata": {
        "id": "X92Fm77uPIrT"
      }
    },
    {
      "cell_type": "code",
      "execution_count": 16,
      "metadata": {
        "colab": {
          "base_uri": "https://localhost:8080/"
        },
        "id": "l3A9MHU8OW7-",
        "outputId": "707d0348-6665-444b-8b11-d641202dc557"
      },
      "outputs": [
        {
          "output_type": "stream",
          "name": "stdout",
          "text": [
            "Overwriting string_operations.py\n"
          ]
        }
      ],
      "source": [
        "%%writefile string_operations.py\n",
        "\n",
        "def contar_caracteres(texto):\n",
        "\n",
        "    return len(texto)\n",
        "\n",
        "def contar_palavras(texto):\n",
        "\n",
        "    palavras = texto.split()\n",
        "    return len(palavras)\n",
        "\n",
        "def inverter_string(texto):\n",
        "\n",
        "    return texto[::-1]\n",
        "\n",
        "def eh_palindromo(texto):\n",
        "\n",
        "    texto_limpo = ''.join(c.lower() for c in texto if c.isalnum())\n",
        "    return texto_limpo == texto_limpo[::-1]\n",
        "\n",
        "\n",
        "if __name__ == \"__main__\":\n",
        "    exemplo_texto = \"A man a plan a canal Panama\"\n",
        "\n",
        "    print(\"Número de caracteres:\", contar_caracteres(exemplo_texto))\n",
        "    print(\"Número de palavras:\", contar_palavras(exemplo_texto))\n",
        "    print(\"String invertida:\", inverter_string(exemplo_texto))\n",
        "    print(\"É palíndromo?\", eh_palindromo(exemplo_texto))\n"
      ]
    },
    {
      "cell_type": "markdown",
      "source": [
        "Questao 2"
      ],
      "metadata": {
        "id": "sqs2OoeNPP4S"
      }
    },
    {
      "cell_type": "code",
      "source": [
        "%%writefile string_operations.py\n",
        "\n",
        "import unittest\n",
        "from string_operations import contar_caracteres, contar_palavras, inverter_string, eh_palindromo\n",
        "\n",
        "class TestStringOperations(unittest.TestCase):\n",
        "\n",
        "    def test_contar_caracteres(self):\n",
        "\n",
        "        self.assertEqual(contar_caracteres(\"Python\"), 6)\n",
        "        self.assertEqual(contar_caracteres(\"Hello, world!\"), 13)\n",
        "        self.assertEqual(contar_caracteres(\"12345\"), 5)\n",
        "        self.assertEqual(contar_caracteres(\"a b c d e\"), 9)\n",
        "\n",
        "\n",
        "        self.assertEqual(contar_caracteres(\"\"), 0)\n",
        "        self.assertEqual(contar_caracteres(\" \"), 1)\n",
        "\n",
        "    def test_contar_palavras(self):\n",
        "\n",
        "        self.assertEqual(contar_palavras(\"Python is great\"), 3)\n",
        "        self.assertEqual(contar_palavras(\"OpenAI creates GPT-3\"), 4)\n",
        "        self.assertEqual(contar_palavras(\"The quick brown fox\"), 4)\n",
        "        self.assertEqual(contar_palavras(\"Data science\"), 2)\n",
        "\n",
        "\n",
        "        self.assertEqual(contar_palavras(\"\"), 0)\n",
        "        self.assertEqual(contar_palavras(\" \"), 0)\n",
        "\n",
        "    def test_inverter_string(self):\n",
        "\n",
        "        self.assertEqual(inverter_string(\"Python\"), \"nohtyP\")\n",
        "        self.assertEqual(inverter_string(\"Hello\"), \"olleH\")\n",
        "        self.assertEqual(inverter_string(\"OpenAI\"), \"IAnepO\")\n",
        "        self.assertEqual(inverter_string(\"12345\"), \"54321\")\n",
        "\n",
        "\n",
        "        self.assertEqual(inverter_string(\"\"), \"\")\n",
        "        self.assertEqual(inverter_string(\" \"), \" \")\n",
        "\n",
        "    def test_eh_palindromo(self):\n",
        "\n",
        "        self.assertTrue(eh_palindromo(\"radar\"))\n",
        "        self.assertTrue(eh_palindromo(\"Aibohphobia\"))\n",
        "        self.assertFalse(eh_palindromo(\"hello\"))\n",
        "        self.assertFalse(eh_palindromo(\"Python\"))\n",
        "\n",
        "\n",
        "        self.assertTrue(eh_palindromo(\"\"))\n",
        "        self.assertTrue(eh_palindromo(\" \"))\n",
        "\n",
        "\n",
        "        self.assertTrue(eh_palindromo(\"A man a plan a canal Panama\"))\n",
        "        self.assertFalse(eh_palindromo(\"Was it a car or a cat I saw?\"))\n",
        "\n",
        "if __name__ == \"__main__\":\n",
        "    unittest.main()\n"
      ],
      "metadata": {
        "colab": {
          "base_uri": "https://localhost:8080/"
        },
        "id": "uY-57p_NPR6f",
        "outputId": "0e968393-ec2d-434b-b7fc-63bc61522bd3"
      },
      "execution_count": 18,
      "outputs": [
        {
          "output_type": "stream",
          "name": "stdout",
          "text": [
            "Overwriting string_operations.py\n"
          ]
        }
      ]
    },
    {
      "cell_type": "markdown",
      "source": [
        "Questao 3"
      ],
      "metadata": {
        "id": "dEC6MUwHWRr5"
      }
    },
    {
      "cell_type": "code",
      "source": [
        "!pip install pytest"
      ],
      "metadata": {
        "colab": {
          "base_uri": "https://localhost:8080/"
        },
        "id": "uGG9mA10Vb7j",
        "outputId": "e5e954c7-6258-48c8-a1ae-51d921d6757e"
      },
      "execution_count": 26,
      "outputs": [
        {
          "output_type": "stream",
          "name": "stdout",
          "text": [
            "Requirement already satisfied: pytest in /usr/local/lib/python3.10/dist-packages (7.4.4)\n",
            "Requirement already satisfied: iniconfig in /usr/local/lib/python3.10/dist-packages (from pytest) (2.0.0)\n",
            "Requirement already satisfied: packaging in /usr/local/lib/python3.10/dist-packages (from pytest) (24.1)\n",
            "Requirement already satisfied: pluggy<2.0,>=0.12 in /usr/local/lib/python3.10/dist-packages (from pytest) (1.5.0)\n",
            "Requirement already satisfied: exceptiongroup>=1.0.0rc8 in /usr/local/lib/python3.10/dist-packages (from pytest) (1.2.2)\n",
            "Requirement already satisfied: tomli>=1.0.0 in /usr/local/lib/python3.10/dist-packages (from pytest) (2.0.1)\n"
          ]
        }
      ]
    },
    {
      "cell_type": "code",
      "source": [
        "!pytest -m string_operations.py\n"
      ],
      "metadata": {
        "colab": {
          "base_uri": "https://localhost:8080/"
        },
        "id": "wQlJJ5PJVi7h",
        "outputId": "36b94537-e313-4a83-fce7-2271ba551199"
      },
      "execution_count": 32,
      "outputs": [
        {
          "output_type": "stream",
          "name": "stdout",
          "text": [
            "\u001b[1m======================================= test session starts ========================================\u001b[0m\n",
            "platform linux -- Python 3.10.12, pytest-7.4.4, pluggy-1.5.0\n",
            "rootdir: /content\n",
            "plugins: typeguard-4.3.0, anyio-3.7.1\n",
            "\u001b[1mcollecting ... \u001b[0m\u001b[1m\rcollected 0 items                                                                                  \u001b[0m\n",
            "\n",
            "\u001b[33m====================================== \u001b[33mno tests ran\u001b[0m\u001b[33m in 0.01s\u001b[0m\u001b[33m =======================================\u001b[0m\n"
          ]
        }
      ]
    },
    {
      "cell_type": "code",
      "source": [
        "!pytest -m string_operations.py\n"
      ],
      "metadata": {
        "colab": {
          "base_uri": "https://localhost:8080/"
        },
        "id": "lB21wRV5V5F8",
        "outputId": "c54913cb-fc05-42c9-bf7d-d2cf90cc5a1c"
      },
      "execution_count": 31,
      "outputs": [
        {
          "output_type": "stream",
          "name": "stdout",
          "text": [
            "\u001b[1m======================================= test session starts ========================================\u001b[0m\n",
            "platform linux -- Python 3.10.12, pytest-7.4.4, pluggy-1.5.0\n",
            "rootdir: /content\n",
            "plugins: typeguard-4.3.0, anyio-3.7.1\n",
            "\u001b[1mcollecting ... \u001b[0m\u001b[1m\rcollected 0 items                                                                                  \u001b[0m\n",
            "\n",
            "\u001b[33m====================================== \u001b[33mno tests ran\u001b[0m\u001b[33m in 0.01s\u001b[0m\u001b[33m =======================================\u001b[0m\n"
          ]
        }
      ]
    }
  ]
}